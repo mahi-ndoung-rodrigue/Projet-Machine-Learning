{
 "cells": [
  {
   "cell_type": "code",
   "execution_count": null,
   "id": "473588a1-558f-483e-b71e-b998aeffd980",
   "metadata": {},
   "outputs": [],
   "source": [
    "# MACHINE LEARNING APPLIQUE A L'IDENTIFICATION DE DEFAUT DE CREDIT"
   ]
  },
  {
   "cell_type": "code",
   "execution_count": 1,
   "id": "af91291c-408f-4c57-b69c-afa5afbd34d6",
   "metadata": {},
   "outputs": [],
   "source": [
    "import warnings\n",
    "import matplotlib.pyplot as plt\n",
    "import numpy as np\n",
    "import pandas as pd\n",
    "import seaborn as sns\n",
    "\n",
    "import requests\n",
    "import zipfile\n",
    "import os\n",
    "\n",
    "from sklearn.preprocessing import OneHotEncoder, StandardScaler\n",
    "from sklearn.compose import ColumnTransformer\n",
    "\n",
    "from sklearn.model_selection import train_test_split\n",
    "from sklearn.pipeline import Pipeline, make_pipeline\n",
    "from sklearn.ensemble import RandomForestClassifier\n",
    "from sklearn.model_selection import (\n",
    "    GridSearchCV, cross_val_score,\n",
    "    RandomizedSearchCV, cross_validate,\n",
    "    StratifiedKFold\n",
    "    )\n",
    "\n",
    "from sklearn import metrics\n",
    "\n",
    "\n",
    "\n",
    "warnings.simplefilter(action=\"ignore\", category=FutureWarning)"
   ]
  },
  {
   "cell_type": "code",
   "execution_count": null,
   "id": "8cc69612-c875-4de8-b52c-859493c5f8f8",
   "metadata": {
    "tags": []
   },
   "outputs": [],
   "source": [
    "# importation des fonctions utiles\n",
    "\n",
    "from credit_card_defaud_utils import*\n"
   ]
  },
  {
   "cell_type": "markdown",
   "id": "2633b1aa-b454-4757-b4b6-abeb625cc13d",
   "metadata": {},
   "source": [
    "# importation des fonctions utiles"
   ]
  }
 ],
 "metadata": {
  "kernelspec": {
   "display_name": "Python 3 (ipykernel)",
   "language": "python",
   "name": "python3"
  },
  "language_info": {
   "codemirror_mode": {
    "name": "ipython",
    "version": 3
   },
   "file_extension": ".py",
   "mimetype": "text/x-python",
   "name": "python",
   "nbconvert_exporter": "python",
   "pygments_lexer": "ipython3",
   "version": "3.9.13"
  }
 },
 "nbformat": 4,
 "nbformat_minor": 5
}
